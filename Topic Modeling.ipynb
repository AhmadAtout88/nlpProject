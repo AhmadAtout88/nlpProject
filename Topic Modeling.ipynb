{
 "cells": [
  {
   "cell_type": "code",
   "execution_count": 2,
   "id": "6d06d06e-1721-4857-8d29-0c9d434312f5",
   "metadata": {},
   "outputs": [
    {
     "name": "stderr",
     "output_type": "stream",
     "text": [
      "[nltk_data] Downloading package punkt to\n",
      "[nltk_data]     /Users/ahmedatout/nltk_data...\n",
      "[nltk_data]   Package punkt is already up-to-date!\n",
      "[nltk_data] Downloading package punkt_tab to\n",
      "[nltk_data]     /Users/ahmedatout/nltk_data...\n",
      "[nltk_data]   Unzipping tokenizers/punkt_tab.zip.\n",
      "[nltk_data] Downloading package punkt to\n",
      "[nltk_data]     /Users/ahmedatout/nltk_data...\n",
      "[nltk_data]   Package punkt is already up-to-date!\n"
     ]
    },
    {
     "data": {
      "text/plain": [
       "True"
      ]
     },
     "execution_count": 2,
     "metadata": {},
     "output_type": "execute_result"
    }
   ],
   "source": [
    "import nltk\n",
    "nltk.download('punkt')  # Ensures the standard Punkt tokenizer is downloaded\n",
    "nltk.download('punkt_tab')\n",
    "nltk.data.path.append('/your/custom/nltk_data_directory')  # Replace with the correct path\n",
    "nltk.download('punkt')"
   ]
  },
  {
   "cell_type": "code",
   "execution_count": 4,
   "id": "6212bdb6-47d7-4884-9a1a-39086d446914",
   "metadata": {},
   "outputs": [
    {
     "name": "stderr",
     "output_type": "stream",
     "text": [
      "[nltk_data] Downloading package punkt to\n",
      "[nltk_data]     /Users/ahmedatout/nltk_data...\n",
      "[nltk_data]   Package punkt is already up-to-date!\n",
      "[nltk_data] Downloading package stopwords to\n",
      "[nltk_data]     /Users/ahmedatout/nltk_data...\n",
      "[nltk_data]   Package stopwords is already up-to-date!\n"
     ]
    },
    {
     "name": "stdout",
     "output_type": "stream",
     "text": [
      "Topic 0: 0.062*\"l\" + 0.031*\"thing\" + 0.015*\"kind\" + 0.014*\"work\" + 0.012*\"n\" + 0.012*\"important\" + 0.009*\"xxx\" + 0.009*\"hand\" + 0.009*\"acceptance\" + 0.009*\"go\"\n",
      "Topic 1: 0.069*\"stutter\" + 0.042*\"like\" + 0.039*\"people\" + 0.030*\"life\" + 0.025*\"talk\" + 0.021*\"stuttering\" + 0.021*\"impact\" + 0.017*\"different\" + 0.017*\"think\" + 0.016*\"support\"\n",
      "Topic 2: 0.025*\"like\" + 0.025*\"good\" + 0.022*\"year\" + 0.020*\"think\" + 0.019*\"stutter\" + 0.017*\"speech\" + 0.016*\"oh\" + 0.016*\"old\" + 0.016*\"thing\" + 0.014*\"cool\"\n",
      "Topic 3: 0.051*\"stuttering\" + 0.043*\"therapy\" + 0.034*\"experience\" + 0.034*\"think\" + 0.033*\"school\" + 0.026*\"cause\" + 0.023*\"mean\" + 0.023*\"yeah\" + 0.022*\"communication\" + 0.022*\"successful\"\n",
      "Topic 4: 0.034*\"know\" + 0.026*\"stutter\" + 0.024*\"like\" + 0.022*\"way\" + 0.020*\"therapist\" + 0.018*\"speech\" + 0.016*\"want\" + 0.014*\"school\" + 0.012*\"day\" + 0.012*\"express\"\n"
     ]
    }
   ],
   "source": [
    "import pandas as pd\n",
    "from gensim.corpora import Dictionary\n",
    "from gensim.models.ldamodel import LdaModel\n",
    "from nltk.tokenize import word_tokenize\n",
    "from nltk.corpus import stopwords\n",
    "import nltk\n",
    "\n",
    "# Ensure NLTK dependencies are downloaded\n",
    "nltk.download('punkt')\n",
    "nltk.download('stopwords')\n",
    "\n",
    "# Load the dataset\n",
    "file_path = 'all_sentiment_analysis.csv'\n",
    "data = pd.read_csv(file_path)\n",
    "\n",
    "# Use the 'Preprocessed_Text' column for topic modeling\n",
    "texts = data['Preprocessed_Text'].dropna()\n",
    "\n",
    "# Preprocessing: Tokenization and removing stopwords\n",
    "stop_words = set(stopwords.words('english'))\n",
    "texts_processed = [\n",
    "    [word for word in word_tokenize(doc.lower()) if word.isalpha() and word not in stop_words]\n",
    "    for doc in texts\n",
    "]\n",
    "\n",
    "# Step 1: Create Dictionary\n",
    "dictionary = Dictionary(texts_processed)\n",
    "\n",
    "# Step 2: Create Corpus (Bag of Words representation)\n",
    "corpus = [dictionary.doc2bow(text) for text in texts_processed]\n",
    "\n",
    "# Step 3: Build LDA Model\n",
    "lda_model = LdaModel(corpus=corpus, id2word=dictionary, num_topics=5, random_state=42, passes=10)\n",
    "\n",
    "# Step 4: Extract Topics\n",
    "topics_gensim = lda_model.print_topics(num_words=10)\n",
    "\n",
    "# Display topics\n",
    "for idx, topic in topics_gensim:\n",
    "    print(f\"Topic {idx}: {topic}\")"
   ]
  },
  {
   "cell_type": "code",
   "execution_count": null,
   "id": "721ecc06-e13f-4385-830e-52eb9d2e9b78",
   "metadata": {},
   "outputs": [],
   "source": []
  }
 ],
 "metadata": {
  "kernelspec": {
   "display_name": "Python 3 (ipykernel)",
   "language": "python",
   "name": "python3"
  },
  "language_info": {
   "codemirror_mode": {
    "name": "ipython",
    "version": 3
   },
   "file_extension": ".py",
   "mimetype": "text/x-python",
   "name": "python",
   "nbconvert_exporter": "python",
   "pygments_lexer": "ipython3",
   "version": "3.12.7"
  }
 },
 "nbformat": 4,
 "nbformat_minor": 5
}
